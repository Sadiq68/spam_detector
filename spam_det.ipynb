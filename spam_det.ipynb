{
 "cells": [
  {
   "cell_type": "code",
   "execution_count": 18,
   "metadata": {},
   "outputs": [],
   "source": [
    "import numpy\n",
    "import re\n",
    "import math\n",
    "import glob\n",
    "#from nb_model import NB_model \n",
    "\n"
   ]
  },
  {
   "cell_type": "code",
   "execution_count": 19,
   "metadata": {
    "scrolled": false
   },
   "outputs": [
    {
     "name": "stdout",
     "output_type": "stream",
     "text": [
      "0\n",
      "47483\n",
      "19693\n"
     ]
    }
   ],
   "source": [
    "vocab = []\n",
    "hamwords = {}\n",
    "hamdoc_count = 0\n",
    "hamfiles = [file for file in glob.glob(\"./train/*ham*.txt\")]\n",
    "stopwords = ['return', 'path', 'spamassassin', 'org', 'to', 'yyyy', 'localhost', 'netnoteinc', 'com', 'received', 'from', 'by', 'labs', 'with', 'esmtp', 'id', 'c', 'for', 'jm', 'wed', 'dogma', 'slashnull', 'g', 'jmason', 'f', 'a', 'd', 'mail', 'smtp', 'subject', 'in', 'reply', 'mime', 'version', 'content', 'type', 'text', 'charset', 'us', 'message', 'x', 'list', 'mailto', 'date', 'tue', 'i', 'm', 'that', 'are', 'the', 'can', 't', 'if', 'is', 'my', 'not', 'an', 'of', 'this', 'and', 's', 'as', 'have', 'be', 'it', 'on', 'or', 'do', 'you', 'at', 'e', 'b', 'http', 'www', 'net', 'jul', 'mon']\n",
    "\n",
    "for file in hamfiles:\n",
    "    hamdoc_count  = hamdoc_count+1\n",
    "    doc = open(file, 'r').read().lower()\n",
    "    doc = re.sub('[a-z]*@*.com', '', doc)\n",
    "    doc = re.sub('<*[a-z]*>', '', doc)\n",
    "    words = [word for word in re.split('[^a-zA-Z]',doc)]\n",
    "    for word in words:\n",
    "        if word != '' and word not in stopwords:\n",
    "            try:\n",
    "                hamwords[word] += 1\n",
    "            except KeyError:\n",
    "                hamwords[word] = 1\n",
    "\n",
    "spamdoc_count = 0\n",
    "spamwords = {}\n",
    "spamfiles = [file for file in glob.glob(\"./train/*spam*.txt\")]\n",
    "for file in spamfiles:\n",
    "    spamdoc_count = spamdoc_count+1\n",
    "    doc = open(file, 'r').read().lower()\n",
    "    words = [word for word in re.split('[^a-zA-Z]',doc)]\n",
    "    for word in words:\n",
    "        if word != '' and word not in stopwords:\n",
    "            try:\n",
    "                spamwords[word] += 1\n",
    "            except KeyError:\n",
    "                spamwords[word] = 1\n",
    "    \n",
    "print(len(vocab))\n",
    "print(len(spamwords))\n",
    "print(len(hamwords))\n",
    "\n",
    "#(vocab)"
   ]
  },
  {
   "cell_type": "code",
   "execution_count": 20,
   "metadata": {},
   "outputs": [
    {
     "name": "stdout",
     "output_type": "stream",
     "text": [
      "[]\n"
     ]
    }
   ],
   "source": [
    "stopwords = ['to', 'from', 'the', 'by', 'with', 'for', 'a', 'i', 'of', 'and', 'in', 'that', 'is', 'it', 'on', 'you', 'be', 'this',\n",
    "            'have', 'as', 'are', 'at', 'or', 'us', 'my', 'so', 'an', 'will', 'your', 'no', 'any', 'cc', 'than', 'he', 'she', 'am',\n",
    "            'com', 'org', 'net', 'received', 'http', 'subject', 'mailto', 'mail', 'www', 'delivered', 'but', 'localhost', \n",
    "            'we', 'd', 'b', 'p', 'e', 'id', 'x', 'f', 'g', 's', '']\n",
    "\n",
    "#for elem in sorted(spamwords.items() ,  key=lambda x: x[1], reverse = True) :\n",
    "#        print(elem[0] , \" ::\" , elem[1] )\n",
    "stopwords2 = []\n",
    "\n",
    "for key in hamwords.keys():\n",
    "    if key in spamwords.keys():\n",
    "        if hamwords[key] > 700 and spamwords[key] > 700:\n",
    "            stopwords2.append(key)\n",
    "            print(key , hamwords[key])\n",
    "print(stopwords2)            "
   ]
  },
  {
   "cell_type": "code",
   "execution_count": 21,
   "metadata": {},
   "outputs": [],
   "source": [
    "class NB_model:\n",
    "    \n",
    "    def __init__(self,msg):\n",
    "        self.spam_prob_dict ={}\n",
    "        self.ham_prob_dict = {}\n",
    "        self.prob_spam = 0\n",
    "        self.prob_ham = 0\n",
    "        self.tot_ham_words = 0\n",
    "        self.tot_spam_words = 0\n",
    "        self.stopwords = ['to', 'from', 'the', 'by', 'with', 'for', 'a', 'i', 'of', 'and', 'in', 'that', 'is', 'it', 'on', 'you', 'be', 'this',\n",
    "            'have', 'as', 'are', 'at', 'or', 'us', 'my', 'so', 'an', 'will', 'your', 'no', 'any', 'cc', 'than', 'he', 'she', 'am',\n",
    "            'com', 'org', 'net', 'received', 'http', 'subject', 'mailto', 'mail', 'www', 'delivered', 'but', 'localhot', \n",
    "            'we', 'd', 'b', 'p', 'e']\n",
    "        self.stopwords2 = ['return', 'path', 'spamassassin', 'org', 'to', 'yyyy', 'localhost', 'snetnoteinc', 'com', 'received', 'from', 'by', 'labs', 'with', 'esmtp', 'id', 'c', 'for', 'jm', 'wed', 'dogma', 'slashnull', 'g', 'jmason', 'f', 'a', 'd', 'mail', 'smtp', 'subject', 'in', 'reply', 'mime', 'version', 'content', 'type', 'text', 'charset', 'us', 'message', 'x', 'list', 'mailto', 'date', 'tue', 'i', 'm', 'that', 'are', 'the', 'can', 't', 'if', 'is', 'my', 'not', 'an', 'of', 'this', 'and', 's', 'as', 'have', 'be', 'it', 'on', 'or', 'do', 'you', 'at', 'e', 'b', 'http', 'www', 'net', 'jul', 'mon']\n",
    "\n",
    "        print(msg)\n",
    "        \n",
    "    def train(self, hm_dict, sp_dict, hm_prob, sp_prob):\n",
    "        vocab_set = []\n",
    "        self.prob_spam = sp_prob\n",
    "        self.prob_ham = hm_prob\n",
    "        for key,value in hm_dict.items():\n",
    "            self.tot_ham_words += value\n",
    "            vocab_set.append(key)\n",
    "        vocab_set = set(vocab_set)\n",
    "    \n",
    "        print(len(vocab_set))\n",
    "        for key,value in spamwords.items():\n",
    "            self.tot_spam_words += value\n",
    "            vocab_set.add(key)\n",
    "        print(len(vocab_set))\n",
    "        self.vocab = list(vocab_set)\n",
    "        print(len(self.vocab))\n",
    "        file = open(\"./model.txt\", 'w+')\n",
    "    \n",
    "        index = 1\n",
    "        for word in sorted(self.vocab):\n",
    "            try:\n",
    "                hm_dict[word] += 0\n",
    "            except KeyError:\n",
    "                hm_dict[word] = 0\n",
    "                \n",
    "            try:\n",
    "                sp_dict[word] += 0\n",
    "            except KeyError:\n",
    "                sp_dict[word] = 0\n",
    "                \n",
    "            prob_word_ham = (hm_dict[word]+0.5)/(self.tot_ham_words+len(self.vocab))\n",
    "            self.ham_prob_dict[word] = prob_word_ham\n",
    "            prob_word_spam = (sp_dict[word]+0.5)/(self.tot_spam_words+len(self.vocab))\n",
    "            self.spam_prob_dict[word] = prob_word_spam\n",
    "           # print(\"%d  %s  %d  %f  %d  %f\"%(index, word, hm_dict[word], prob_word_ham, sp_dict[word], prob_word_spam))\n",
    "            file.write(\"%d  %s  %d  %f  %d  %f\\n\"%(index, word, hm_dict[word], prob_word_ham, sp_dict[word], prob_word_spam))\n",
    "            index +=1\n",
    "            \n",
    "        file.close()\n",
    "        \n",
    "    def test(self, words):\n",
    "        score_ham = math.log10(self.prob_ham)\n",
    "        score_spam = math.log10(self.prob_spam)\n",
    "        for word in words:\n",
    "            if word != '' and word not in self.stopwords2:\n",
    "                try:\n",
    "                    self.ham_prob_dict[word] += 0\n",
    "                except KeyError:\n",
    "                    self.ham_prob_dict[word] = 0.5/(self.tot_ham_words+len(self.vocab))\n",
    "                    self.spam_prob_dict[word] = 0.5/(self.tot_spam_words+len(self.vocab))\n",
    "                \n",
    "                score_ham = score_ham + math.log10(self.ham_prob_dict[word])\n",
    "                score_spam = score_spam + math.log10(self.spam_prob_dict[word])              \n",
    "            \n",
    "        if score_ham > score_spam:\n",
    "            return(\"ham\",score_ham,score_spam)\n",
    "        else:\n",
    "            return(\"spam\",score_ham,score_spam)\n",
    "        \n",
    "\n",
    "\n"
   ]
  },
  {
   "cell_type": "code",
   "execution_count": 22,
   "metadata": {
    "scrolled": false
   },
   "outputs": [
    {
     "name": "stdout",
     "output_type": "stream",
     "text": [
      "creating object\n",
      "19693\n",
      "59642\n",
      "59642\n"
     ]
    }
   ],
   "source": [
    "prob_ham = (hamdoc_count/(hamdoc_count+spamdoc_count))\n",
    "prob_spam = (spamdoc_count/(hamdoc_count+spamdoc_count))\n",
    "\n",
    "model = NB_model(\"creating object\")\n",
    "model.train(hamwords,spamwords,prob_ham,prob_spam)"
   ]
  },
  {
   "cell_type": "code",
   "execution_count": 23,
   "metadata": {},
   "outputs": [],
   "source": [
    "index = 1\n",
    "y_act = []\n",
    "y_pred = []\n",
    "res_file = open(\"./result.txt\", 'w+')\n",
    "ham_test_files = [file for file in glob.glob(\"./test/*ham*.txt\")]\n",
    "\n",
    "# positive = ham and negative = spam\n",
    "\n",
    "tp = 0\n",
    "tn = 0\n",
    "fp = 0\n",
    "fn = 0\n",
    "\n",
    "for file in ham_test_files:\n",
    "    doc = open(file, 'r').read().lower()\n",
    "    words = [word for word in re.split('[^a-zA-Z]',doc)]\n",
    "    (result,h_score,s_score) = model.test(words)\n",
    "    y_act.append(0)\n",
    "    if result == \"ham\":\n",
    "        output = 'right'\n",
    "        tp += 1\n",
    "        y_pred.append(0)\n",
    "    else:\n",
    "        output = 'wrong'\n",
    "        fn += 1\n",
    "        y_pred.append(1)\n",
    "    #print(\"%d  %s  %s  %f  %f  %s  %s\"%(index, file, result, h_score, s_score, \"ham\", output))\n",
    "    res_file.write(\"%d  %s  %s  %f  %f  %s  %s \\n\"%(index, file, result, h_score, s_score, \"ham\", output))\n",
    "    index += 1\n",
    "    \n",
    "spam_test_files = [file for file in glob.glob(\"./test/*spam*.txt\")]\n",
    "\n",
    "for file in spam_test_files:\n",
    "    doc = open(file, 'r', encoding='cp437').read().lower()\n",
    "    words = [word for word in re.split('[^a-zA-Z]',doc)]\n",
    "    (result,h_score,s_score) = model.test(words)\n",
    "    y_act.append(1)\n",
    "    if result == \"ham\":\n",
    "        output = 'wrong'\n",
    "        fp += 1\n",
    "        y_pred.append(0)\n",
    "    else:\n",
    "        output = 'right'\n",
    "        tn += 1\n",
    "        y_pred.append(1)\n",
    "    #print(\"%d  %s  %s  %f  %f  %s  %s\"%(index, file, result, h_score, s_score, \"spam\", output))\n",
    "    res_file.write(\"%d  %s  %s  %f  %f  %s  %s \\n\"%(index, file, result, h_score, s_score, \"spam\", output))\n",
    "    index += 1\n",
    "    \n",
    "res_file.close()\n",
    "\n",
    "#resultFn(tp, tn, fp, fn)"
   ]
  },
  {
   "cell_type": "code",
   "execution_count": 24,
   "metadata": {},
   "outputs": [],
   "source": [
    "def resultFn(true_pos, true_neg, false_pos, false_neg):\n",
    "    print(\"-------------------------------------------Evaluation--------------------------------------------\")\n",
    "    print(\"true_pos : \"+ str(true_pos) +\"\\ntrue_neg : \"+str(true_neg)+\"\\nfalse_pos : \"+ str(false_pos) +\"\\nfalse_neg : \"+ str(false_neg) +\"\\n\")\n",
    "    precision = true_pos/(true_pos + false_pos)\n",
    "    recall = true_pos/(true_pos + false_neg)\n",
    "    f1 = 2 * ((precision * recall)/(precision + recall))\n",
    "    accuracy = (true_pos + true_neg)/(true_pos + false_neg + true_neg + false_pos)\n",
    "    print(\"Precision : \"+str(precision*100) + \"\\nRecall : \"+str(recall*100)+\"\\nF1-score : \"+str(f1*100)+\"\\nAccuracy : \"+str(accuracy*100))"
   ]
  },
  {
   "cell_type": "code",
   "execution_count": 25,
   "metadata": {},
   "outputs": [
    {
     "name": "stdout",
     "output_type": "stream",
     "text": [
      "-------------------------------------------Evaluation--------------------------------------------\n",
      "true_pos : 391\n",
      "true_neg : 363\n",
      "false_pos : 37\n",
      "false_neg : 9\n",
      "\n",
      "Precision : 91.35514018691589\n",
      "Recall : 97.75\n",
      "F1-score : 94.44444444444444\n",
      "Accuracy : 94.25\n"
     ]
    }
   ],
   "source": [
    "resultFn(tp, tn, fp, fn)"
   ]
  }
 ],
 "metadata": {
  "kernelspec": {
   "display_name": "Python 3",
   "language": "python",
   "name": "python3"
  },
  "language_info": {
   "codemirror_mode": {
    "name": "ipython",
    "version": 3
   },
   "file_extension": ".py",
   "mimetype": "text/x-python",
   "name": "python",
   "nbconvert_exporter": "python",
   "pygments_lexer": "ipython3",
   "version": "3.7.3"
  }
 },
 "nbformat": 4,
 "nbformat_minor": 2
}
